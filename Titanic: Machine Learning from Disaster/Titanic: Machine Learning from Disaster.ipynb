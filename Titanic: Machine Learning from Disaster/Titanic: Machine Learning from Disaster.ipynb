{
  "cells": [
    {
      "metadata": {
        "_cell_guid": "8fec389c-9bc6-4f48-a8fa-9790c31883f6",
        "_uuid": "784606cd89030de1b3729fb972eeadfaf25b3ed2",
        "collapsed": true,
        "trusted": true
      },
      "cell_type": "code",
      "source": "import numpy as np\nimport pandas as pd\n\nfrom sklearn.tree import DecisionTreeClassifier\nfrom sklearn.ensemble import RandomForestClassifier\n\npd.options.mode.chained_assignment = None  # disable the chain assignment warning",
      "execution_count": 1,
      "outputs": []
    },
    {
      "metadata": {
        "_cell_guid": "5ea534e1-9e65-4033-8d9d-7e4a105a294d",
        "_uuid": "40ca7fc94b3d0ddbdcd718c48339cb95b4976053",
        "collapsed": true,
        "trusted": true
      },
      "cell_type": "code",
      "source": "# Load the train and test datasets into two DataFrames\ntrain = pd.read_csv('../input/train.csv')\ntest = pd.read_csv('../input/test.csv')",
      "execution_count": 2,
      "outputs": []
    },
    {
      "metadata": {
        "trusted": true,
        "_uuid": "5df9940b464aef88a6272e0cab57f3aa8151118f"
      },
      "cell_type": "code",
      "source": "# view the dataset\ntrain.head()",
      "execution_count": 3,
      "outputs": [
        {
          "output_type": "execute_result",
          "execution_count": 3,
          "data": {
            "text/plain": "   PassengerId  Survived  Pclass  \\\n0            1         0       3   \n1            2         1       1   \n2            3         1       3   \n3            4         1       1   \n4            5         0       3   \n\n                                                Name     Sex   Age  SibSp  \\\n0                            Braund, Mr. Owen Harris    male  22.0      1   \n1  Cumings, Mrs. John Bradley (Florence Briggs Th...  female  38.0      1   \n2                             Heikkinen, Miss. Laina  female  26.0      0   \n3       Futrelle, Mrs. Jacques Heath (Lily May Peel)  female  35.0      1   \n4                           Allen, Mr. William Henry    male  35.0      0   \n\n   Parch            Ticket     Fare Cabin Embarked  \n0      0         A/5 21171   7.2500   NaN        S  \n1      0          PC 17599  71.2833   C85        C  \n2      0  STON/O2. 3101282   7.9250   NaN        S  \n3      0            113803  53.1000  C123        S  \n4      0            373450   8.0500   NaN        S  ",
            "text/html": "<div>\n<style>\n    .dataframe thead tr:only-child th {\n        text-align: right;\n    }\n\n    .dataframe thead th {\n        text-align: left;\n    }\n\n    .dataframe tbody tr th {\n        vertical-align: top;\n    }\n</style>\n<table border=\"1\" class=\"dataframe\">\n  <thead>\n    <tr style=\"text-align: right;\">\n      <th></th>\n      <th>PassengerId</th>\n      <th>Survived</th>\n      <th>Pclass</th>\n      <th>Name</th>\n      <th>Sex</th>\n      <th>Age</th>\n      <th>SibSp</th>\n      <th>Parch</th>\n      <th>Ticket</th>\n      <th>Fare</th>\n      <th>Cabin</th>\n      <th>Embarked</th>\n    </tr>\n  </thead>\n  <tbody>\n    <tr>\n      <th>0</th>\n      <td>1</td>\n      <td>0</td>\n      <td>3</td>\n      <td>Braund, Mr. Owen Harris</td>\n      <td>male</td>\n      <td>22.0</td>\n      <td>1</td>\n      <td>0</td>\n      <td>A/5 21171</td>\n      <td>7.2500</td>\n      <td>NaN</td>\n      <td>S</td>\n    </tr>\n    <tr>\n      <th>1</th>\n      <td>2</td>\n      <td>1</td>\n      <td>1</td>\n      <td>Cumings, Mrs. John Bradley (Florence Briggs Th...</td>\n      <td>female</td>\n      <td>38.0</td>\n      <td>1</td>\n      <td>0</td>\n      <td>PC 17599</td>\n      <td>71.2833</td>\n      <td>C85</td>\n      <td>C</td>\n    </tr>\n    <tr>\n      <th>2</th>\n      <td>3</td>\n      <td>1</td>\n      <td>3</td>\n      <td>Heikkinen, Miss. Laina</td>\n      <td>female</td>\n      <td>26.0</td>\n      <td>0</td>\n      <td>0</td>\n      <td>STON/O2. 3101282</td>\n      <td>7.9250</td>\n      <td>NaN</td>\n      <td>S</td>\n    </tr>\n    <tr>\n      <th>3</th>\n      <td>4</td>\n      <td>1</td>\n      <td>1</td>\n      <td>Futrelle, Mrs. Jacques Heath (Lily May Peel)</td>\n      <td>female</td>\n      <td>35.0</td>\n      <td>1</td>\n      <td>0</td>\n      <td>113803</td>\n      <td>53.1000</td>\n      <td>C123</td>\n      <td>S</td>\n    </tr>\n    <tr>\n      <th>4</th>\n      <td>5</td>\n      <td>0</td>\n      <td>3</td>\n      <td>Allen, Mr. William Henry</td>\n      <td>male</td>\n      <td>35.0</td>\n      <td>0</td>\n      <td>0</td>\n      <td>373450</td>\n      <td>8.0500</td>\n      <td>NaN</td>\n      <td>S</td>\n    </tr>\n  </tbody>\n</table>\n</div>"
          },
          "metadata": {}
        }
      ]
    },
    {
      "metadata": {
        "_cell_guid": "71e40703-dd3a-46b8-8db6-295e62ac8694",
        "_uuid": "d2caf3d86b6be6cdb3dc6ed7bf3d33a9bf323761",
        "trusted": true
      },
      "cell_type": "code",
      "source": "# Description of the dataset\ntrain.describe()",
      "execution_count": 4,
      "outputs": [
        {
          "output_type": "execute_result",
          "execution_count": 4,
          "data": {
            "text/plain": "       PassengerId    Survived      Pclass         Age       SibSp  \\\ncount   891.000000  891.000000  891.000000  714.000000  891.000000   \nmean    446.000000    0.383838    2.308642   29.699118    0.523008   \nstd     257.353842    0.486592    0.836071   14.526497    1.102743   \nmin       1.000000    0.000000    1.000000    0.420000    0.000000   \n25%     223.500000    0.000000    2.000000   20.125000    0.000000   \n50%     446.000000    0.000000    3.000000   28.000000    0.000000   \n75%     668.500000    1.000000    3.000000   38.000000    1.000000   \nmax     891.000000    1.000000    3.000000   80.000000    8.000000   \n\n            Parch        Fare  \ncount  891.000000  891.000000  \nmean     0.381594   32.204208  \nstd      0.806057   49.693429  \nmin      0.000000    0.000000  \n25%      0.000000    7.910400  \n50%      0.000000   14.454200  \n75%      0.000000   31.000000  \nmax      6.000000  512.329200  ",
            "text/html": "<div>\n<style>\n    .dataframe thead tr:only-child th {\n        text-align: right;\n    }\n\n    .dataframe thead th {\n        text-align: left;\n    }\n\n    .dataframe tbody tr th {\n        vertical-align: top;\n    }\n</style>\n<table border=\"1\" class=\"dataframe\">\n  <thead>\n    <tr style=\"text-align: right;\">\n      <th></th>\n      <th>PassengerId</th>\n      <th>Survived</th>\n      <th>Pclass</th>\n      <th>Age</th>\n      <th>SibSp</th>\n      <th>Parch</th>\n      <th>Fare</th>\n    </tr>\n  </thead>\n  <tbody>\n    <tr>\n      <th>count</th>\n      <td>891.000000</td>\n      <td>891.000000</td>\n      <td>891.000000</td>\n      <td>714.000000</td>\n      <td>891.000000</td>\n      <td>891.000000</td>\n      <td>891.000000</td>\n    </tr>\n    <tr>\n      <th>mean</th>\n      <td>446.000000</td>\n      <td>0.383838</td>\n      <td>2.308642</td>\n      <td>29.699118</td>\n      <td>0.523008</td>\n      <td>0.381594</td>\n      <td>32.204208</td>\n    </tr>\n    <tr>\n      <th>std</th>\n      <td>257.353842</td>\n      <td>0.486592</td>\n      <td>0.836071</td>\n      <td>14.526497</td>\n      <td>1.102743</td>\n      <td>0.806057</td>\n      <td>49.693429</td>\n    </tr>\n    <tr>\n      <th>min</th>\n      <td>1.000000</td>\n      <td>0.000000</td>\n      <td>1.000000</td>\n      <td>0.420000</td>\n      <td>0.000000</td>\n      <td>0.000000</td>\n      <td>0.000000</td>\n    </tr>\n    <tr>\n      <th>25%</th>\n      <td>223.500000</td>\n      <td>0.000000</td>\n      <td>2.000000</td>\n      <td>20.125000</td>\n      <td>0.000000</td>\n      <td>0.000000</td>\n      <td>7.910400</td>\n    </tr>\n    <tr>\n      <th>50%</th>\n      <td>446.000000</td>\n      <td>0.000000</td>\n      <td>3.000000</td>\n      <td>28.000000</td>\n      <td>0.000000</td>\n      <td>0.000000</td>\n      <td>14.454200</td>\n    </tr>\n    <tr>\n      <th>75%</th>\n      <td>668.500000</td>\n      <td>1.000000</td>\n      <td>3.000000</td>\n      <td>38.000000</td>\n      <td>1.000000</td>\n      <td>0.000000</td>\n      <td>31.000000</td>\n    </tr>\n    <tr>\n      <th>max</th>\n      <td>891.000000</td>\n      <td>1.000000</td>\n      <td>3.000000</td>\n      <td>80.000000</td>\n      <td>8.000000</td>\n      <td>6.000000</td>\n      <td>512.329200</td>\n    </tr>\n  </tbody>\n</table>\n</div>"
          },
          "metadata": {}
        }
      ]
    },
    {
      "metadata": {
        "_uuid": "fc2eff0cab05ae54cac24e79aca69eaa7d1e0234"
      },
      "cell_type": "markdown",
      "source": "# Check for important features\nBy executing the two cells below, the following conclusions can be drawn:\n- Females have a higher survival rate, so we include *Sex* in our feature vector.\n- Chuldren have much better survival rate than adults, so we include the *Age* feature in our feature vector."
    },
    {
      "metadata": {
        "_cell_guid": "e18bebe1-67d9-4f5b-b925-362bffe4078c",
        "_uuid": "8615df98ee51527dd5f425013a193a6978362d9e",
        "trusted": true
      },
      "cell_type": "code",
      "source": "# Check for survival rate based on certain features\n\n# Passengers' survival\nprint('Passenger:')\nprint(train['Survived'].value_counts(normalize=True))\n\n# Males' survival\nprint('\\nMale:')\nprint(train['Survived'][train['Sex'] == 'male'].value_counts(normalize=True))\n\n# Females' survival\nprint('\\nFemale:')\nprint(train['Survived'][train['Sex'] == 'female'].value_counts(normalize=True))",
      "execution_count": 5,
      "outputs": [
        {
          "output_type": "stream",
          "text": "Passenger:\n0    0.616162\n1    0.383838\nName: Survived, dtype: float64\n\nMale:\n0    0.811092\n1    0.188908\nName: Survived, dtype: float64\n\nFemale:\n1    0.742038\n0    0.257962\nName: Survived, dtype: float64\n",
          "name": "stdout"
        }
      ]
    },
    {
      "metadata": {
        "_cell_guid": "54fb4bbf-7789-48b4-81b2-e7f3f14b5321",
        "_uuid": "085928b04f7f5d74eaeaebb35b3a26627802307f",
        "trusted": true
      },
      "cell_type": "code",
      "source": "# Check for children\n\n# create column\ntrain['Child'] = np.NaN\n\n# assign values\n# 1) child: age < 18\n# 2) adult: age >= 18\ntrain['Child'][train['Age'] < 18] = 1\ntrain['Child'][train['Age'] >= 18] = 0\n\n# Child survival\nprint('Children:')\nprint(train['Survived'][train['Child'] == 1].value_counts(normalize=True))\n\n# Adult survival\nprint('\\nAdult:')\nprint(train['Survived'][train['Child'] == 0].value_counts(normalize=True))",
      "execution_count": 6,
      "outputs": [
        {
          "output_type": "stream",
          "text": "Children:\n1    0.539823\n0    0.460177\nName: Survived, dtype: float64\n\nAdult:\n0    0.618968\n1    0.381032\nName: Survived, dtype: float64\n",
          "name": "stdout"
        }
      ]
    },
    {
      "metadata": {
        "_uuid": "fd58ab8d8d7f241528dc98ff227d6f41fabf3289"
      },
      "cell_type": "markdown",
      "source": "## Cleaning and formatting the dataset\nAll the non-numeric values in the dataset have to be converted to numeric before we can do any sort of computation. All the *NaN* entries must also be filled with appropriate values."
    },
    {
      "metadata": {
        "_cell_guid": "3894a671-691b-4c76-baf5-e2ffa0d98005",
        "_uuid": "c6e33a15eb493330ce47942361342e244bcacf63",
        "collapsed": true,
        "trusted": true
      },
      "cell_type": "code",
      "source": "# Cleaning and formatting the training data\n\n# Convert gender to binary\n# Male: 0\n# Female: 1\ntrain['Sex'][train['Sex'] == 'male'] = 0\ntrain['Sex'][train['Sex'] == 'female'] = 1\n\n# Fill the NaN values of Emabrked with most common value\ntrain['Embarked'] = train['Embarked'].fillna(max(train['Embarked'].value_counts().index))\n\n# Convert the Embarked classes to integer form\ntrain['Embarked'][train['Embarked'] == \"S\"] = 0\ntrain['Embarked'][train['Embarked'] == \"C\"] = 1\ntrain['Embarked'][train['Embarked'] == \"Q\"] = 2\n\n# Fill the NaN values of Age and Child with median value\ntrain['Age'] = train['Age'].fillna(train['Age'].median())\ntrain['Child'] = train['Child'].fillna(train['Child'].median())",
      "execution_count": 7,
      "outputs": []
    },
    {
      "metadata": {
        "trusted": true,
        "_uuid": "a7831c5b1568d7730fbceb315e0f704eaff12b7e"
      },
      "cell_type": "code",
      "source": "# View the test data\ntest.head()",
      "execution_count": 8,
      "outputs": [
        {
          "output_type": "execute_result",
          "execution_count": 8,
          "data": {
            "text/plain": "   PassengerId  Pclass                                          Name     Sex  \\\n0          892       3                              Kelly, Mr. James    male   \n1          893       3              Wilkes, Mrs. James (Ellen Needs)  female   \n2          894       2                     Myles, Mr. Thomas Francis    male   \n3          895       3                              Wirz, Mr. Albert    male   \n4          896       3  Hirvonen, Mrs. Alexander (Helga E Lindqvist)  female   \n\n    Age  SibSp  Parch   Ticket     Fare Cabin Embarked  \n0  34.5      0      0   330911   7.8292   NaN        Q  \n1  47.0      1      0   363272   7.0000   NaN        S  \n2  62.0      0      0   240276   9.6875   NaN        Q  \n3  27.0      0      0   315154   8.6625   NaN        S  \n4  22.0      1      1  3101298  12.2875   NaN        S  ",
            "text/html": "<div>\n<style>\n    .dataframe thead tr:only-child th {\n        text-align: right;\n    }\n\n    .dataframe thead th {\n        text-align: left;\n    }\n\n    .dataframe tbody tr th {\n        vertical-align: top;\n    }\n</style>\n<table border=\"1\" class=\"dataframe\">\n  <thead>\n    <tr style=\"text-align: right;\">\n      <th></th>\n      <th>PassengerId</th>\n      <th>Pclass</th>\n      <th>Name</th>\n      <th>Sex</th>\n      <th>Age</th>\n      <th>SibSp</th>\n      <th>Parch</th>\n      <th>Ticket</th>\n      <th>Fare</th>\n      <th>Cabin</th>\n      <th>Embarked</th>\n    </tr>\n  </thead>\n  <tbody>\n    <tr>\n      <th>0</th>\n      <td>892</td>\n      <td>3</td>\n      <td>Kelly, Mr. James</td>\n      <td>male</td>\n      <td>34.5</td>\n      <td>0</td>\n      <td>0</td>\n      <td>330911</td>\n      <td>7.8292</td>\n      <td>NaN</td>\n      <td>Q</td>\n    </tr>\n    <tr>\n      <th>1</th>\n      <td>893</td>\n      <td>3</td>\n      <td>Wilkes, Mrs. James (Ellen Needs)</td>\n      <td>female</td>\n      <td>47.0</td>\n      <td>1</td>\n      <td>0</td>\n      <td>363272</td>\n      <td>7.0000</td>\n      <td>NaN</td>\n      <td>S</td>\n    </tr>\n    <tr>\n      <th>2</th>\n      <td>894</td>\n      <td>2</td>\n      <td>Myles, Mr. Thomas Francis</td>\n      <td>male</td>\n      <td>62.0</td>\n      <td>0</td>\n      <td>0</td>\n      <td>240276</td>\n      <td>9.6875</td>\n      <td>NaN</td>\n      <td>Q</td>\n    </tr>\n    <tr>\n      <th>3</th>\n      <td>895</td>\n      <td>3</td>\n      <td>Wirz, Mr. Albert</td>\n      <td>male</td>\n      <td>27.0</td>\n      <td>0</td>\n      <td>0</td>\n      <td>315154</td>\n      <td>8.6625</td>\n      <td>NaN</td>\n      <td>S</td>\n    </tr>\n    <tr>\n      <th>4</th>\n      <td>896</td>\n      <td>3</td>\n      <td>Hirvonen, Mrs. Alexander (Helga E Lindqvist)</td>\n      <td>female</td>\n      <td>22.0</td>\n      <td>1</td>\n      <td>1</td>\n      <td>3101298</td>\n      <td>12.2875</td>\n      <td>NaN</td>\n      <td>S</td>\n    </tr>\n  </tbody>\n</table>\n</div>"
          },
          "metadata": {}
        }
      ]
    },
    {
      "metadata": {
        "trusted": true,
        "_uuid": "e1cd479f2e3f726c41fd7b778ce7c5501f24fc5c"
      },
      "cell_type": "code",
      "source": "# Describe the test set\ntest.describe()",
      "execution_count": 9,
      "outputs": [
        {
          "output_type": "execute_result",
          "execution_count": 9,
          "data": {
            "text/plain": "       PassengerId      Pclass         Age       SibSp       Parch        Fare\ncount   418.000000  418.000000  332.000000  418.000000  418.000000  417.000000\nmean   1100.500000    2.265550   30.272590    0.447368    0.392344   35.627188\nstd     120.810458    0.841838   14.181209    0.896760    0.981429   55.907576\nmin     892.000000    1.000000    0.170000    0.000000    0.000000    0.000000\n25%     996.250000    1.000000   21.000000    0.000000    0.000000    7.895800\n50%    1100.500000    3.000000   27.000000    0.000000    0.000000   14.454200\n75%    1204.750000    3.000000   39.000000    1.000000    0.000000   31.500000\nmax    1309.000000    3.000000   76.000000    8.000000    9.000000  512.329200",
            "text/html": "<div>\n<style>\n    .dataframe thead tr:only-child th {\n        text-align: right;\n    }\n\n    .dataframe thead th {\n        text-align: left;\n    }\n\n    .dataframe tbody tr th {\n        vertical-align: top;\n    }\n</style>\n<table border=\"1\" class=\"dataframe\">\n  <thead>\n    <tr style=\"text-align: right;\">\n      <th></th>\n      <th>PassengerId</th>\n      <th>Pclass</th>\n      <th>Age</th>\n      <th>SibSp</th>\n      <th>Parch</th>\n      <th>Fare</th>\n    </tr>\n  </thead>\n  <tbody>\n    <tr>\n      <th>count</th>\n      <td>418.000000</td>\n      <td>418.000000</td>\n      <td>332.000000</td>\n      <td>418.000000</td>\n      <td>418.000000</td>\n      <td>417.000000</td>\n    </tr>\n    <tr>\n      <th>mean</th>\n      <td>1100.500000</td>\n      <td>2.265550</td>\n      <td>30.272590</td>\n      <td>0.447368</td>\n      <td>0.392344</td>\n      <td>35.627188</td>\n    </tr>\n    <tr>\n      <th>std</th>\n      <td>120.810458</td>\n      <td>0.841838</td>\n      <td>14.181209</td>\n      <td>0.896760</td>\n      <td>0.981429</td>\n      <td>55.907576</td>\n    </tr>\n    <tr>\n      <th>min</th>\n      <td>892.000000</td>\n      <td>1.000000</td>\n      <td>0.170000</td>\n      <td>0.000000</td>\n      <td>0.000000</td>\n      <td>0.000000</td>\n    </tr>\n    <tr>\n      <th>25%</th>\n      <td>996.250000</td>\n      <td>1.000000</td>\n      <td>21.000000</td>\n      <td>0.000000</td>\n      <td>0.000000</td>\n      <td>7.895800</td>\n    </tr>\n    <tr>\n      <th>50%</th>\n      <td>1100.500000</td>\n      <td>3.000000</td>\n      <td>27.000000</td>\n      <td>0.000000</td>\n      <td>0.000000</td>\n      <td>14.454200</td>\n    </tr>\n    <tr>\n      <th>75%</th>\n      <td>1204.750000</td>\n      <td>3.000000</td>\n      <td>39.000000</td>\n      <td>1.000000</td>\n      <td>0.000000</td>\n      <td>31.500000</td>\n    </tr>\n    <tr>\n      <th>max</th>\n      <td>1309.000000</td>\n      <td>3.000000</td>\n      <td>76.000000</td>\n      <td>8.000000</td>\n      <td>9.000000</td>\n      <td>512.329200</td>\n    </tr>\n  </tbody>\n</table>\n</div>"
          },
          "metadata": {}
        }
      ]
    },
    {
      "metadata": {
        "trusted": true,
        "collapsed": true,
        "_uuid": "1f5931d23e8a6354b1c3105610ca1971b333fc6d"
      },
      "cell_type": "code",
      "source": "# Filling up NaN entries and formatting the test data\n\n# Impute the missing values with the median\ntest.Fare[152] = test['Fare'].median()\ntest['Age'] = test['Age'].fillna(test['Age'].median())\n\n# Convert gender to binary\n# Male: 0\n# Female: 1\ntest['Sex'][test['Sex'] == 'male'] = 0\ntest['Sex'][test['Sex'] == 'female'] = 1\n\n# Convert the Embarked classes to integer form\ntest['Embarked'][test['Embarked'] == \"S\"] = 0\ntest['Embarked'][test['Embarked'] == \"C\"] = 1\ntest['Embarked'][test['Embarked'] == \"Q\"] = 2",
      "execution_count": 10,
      "outputs": []
    },
    {
      "metadata": {
        "_uuid": "043820a2c937ddfece0aad1bd23018cae3d94ede"
      },
      "cell_type": "markdown",
      "source": "## Using Decision Trees\nWe include the following features in our feature vector\n- Pclass\n- Sex\n- Age\n- Fare"
    },
    {
      "metadata": {
        "_cell_guid": "f6975085-5a5d-4f7a-9947-a984562b6139",
        "_uuid": "22052fa2234008b22aab276e1b423bc8c6c7368e",
        "collapsed": true,
        "trusted": true
      },
      "cell_type": "code",
      "source": "#  Creating a target variable\ntarget = train['Survived'].values\n\n# Extracting useful features from the training set\ntrain_features = train[['Pclass', 'Sex', 'Age', 'Fare']].values\n\n# Extract the useful features from the test set\ntest_features = test[['Pclass', 'Sex', 'Age', 'Fare']].values",
      "execution_count": 11,
      "outputs": []
    },
    {
      "metadata": {
        "_cell_guid": "ccda7a5a-4074-4efc-849e-2b25aadaa18e",
        "_uuid": "7b223654607e51bfa4f386def2e07307ff4103c8",
        "collapsed": true,
        "trusted": true
      },
      "cell_type": "code",
      "source": "# Fit the first decision tree\ndecision_tree = DecisionTreeClassifier()\ndecision_tree = decision_tree.fit(train_features, target)",
      "execution_count": 12,
      "outputs": []
    },
    {
      "metadata": {
        "_cell_guid": "b40b1ecd-54ea-4b60-b46c-369e68830d4d",
        "_uuid": "5b60a0c91dcb201f9cedc9715028d07cca1aaf87",
        "trusted": true
      },
      "cell_type": "code",
      "source": "# Importance and the score of the included features\nprint('Feature Importance: ', decision_tree.feature_importances_)\nprint('Score:', decision_tree.score(train_features, target))",
      "execution_count": 13,
      "outputs": [
        {
          "output_type": "stream",
          "text": "Feature Importance:  [ 0.12629524  0.31274009  0.2297348   0.33122986]\nScore: 0.977553310887\n",
          "name": "stdout"
        }
      ]
    },
    {
      "metadata": {
        "_cell_guid": "493a4070-ffe3-469c-9cda-eebc4740865a",
        "_uuid": "5374f0e4303e32a201090907f6608c3fc37fc91a",
        "collapsed": true,
        "trusted": true
      },
      "cell_type": "code",
      "source": "# Predict the survival rate\nprediction = decision_tree.predict(test_features)",
      "execution_count": 14,
      "outputs": []
    },
    {
      "metadata": {
        "_cell_guid": "d05bd3c4-95d1-4cee-8e6d-c8ed9c45790d",
        "_uuid": "094439e63f98fb93aa598ad7047d48fa2869d03b",
        "collapsed": true,
        "trusted": true
      },
      "cell_type": "code",
      "source": "# Create a data frame with two columns: PassengerId & Survived.\n# Survived contains the predictions\nPassengerId = np.array(test['PassengerId']).astype(int)\nsurvived = pd.DataFrame(prediction, PassengerId, columns = ['Survived'])",
      "execution_count": 15,
      "outputs": []
    },
    {
      "metadata": {
        "_cell_guid": "27e6ad5d-a1ee-4b53-b941-28222b314ec5",
        "_uuid": "58fc25548a317a0fb1f49aace5643fbd8cc990a3",
        "trusted": true
      },
      "cell_type": "code",
      "source": "survived.head()",
      "execution_count": 16,
      "outputs": [
        {
          "output_type": "execute_result",
          "execution_count": 16,
          "data": {
            "text/plain": "     Survived\n892         0\n893         0\n894         1\n895         1\n896         1",
            "text/html": "<div>\n<style>\n    .dataframe thead tr:only-child th {\n        text-align: right;\n    }\n\n    .dataframe thead th {\n        text-align: left;\n    }\n\n    .dataframe tbody tr th {\n        vertical-align: top;\n    }\n</style>\n<table border=\"1\" class=\"dataframe\">\n  <thead>\n    <tr style=\"text-align: right;\">\n      <th></th>\n      <th>Survived</th>\n    </tr>\n  </thead>\n  <tbody>\n    <tr>\n      <th>892</th>\n      <td>0</td>\n    </tr>\n    <tr>\n      <th>893</th>\n      <td>0</td>\n    </tr>\n    <tr>\n      <th>894</th>\n      <td>1</td>\n    </tr>\n    <tr>\n      <th>895</th>\n      <td>1</td>\n    </tr>\n    <tr>\n      <th>896</th>\n      <td>1</td>\n    </tr>\n  </tbody>\n</table>\n</div>"
          },
          "metadata": {}
        }
      ]
    },
    {
      "metadata": {
        "_cell_guid": "f6a06721-0833-49c6-b619-37950acdd47e",
        "_uuid": "e8af76fb38a3d6f056396517aaf73505691406bc",
        "trusted": true
      },
      "cell_type": "code",
      "source": "survived.shape",
      "execution_count": 17,
      "outputs": [
        {
          "output_type": "execute_result",
          "execution_count": 17,
          "data": {
            "text/plain": "(418, 1)"
          },
          "metadata": {}
        }
      ]
    },
    {
      "metadata": {
        "_cell_guid": "28cdeaf2-a9b6-4776-9f7b-74c05d886c05",
        "_uuid": "957760cd670d8df7a62c51ea6b13cc6405a5ea4d",
        "collapsed": true,
        "trusted": true
      },
      "cell_type": "code",
      "source": "# Write the solution to a csv file\nsurvived.to_csv(\"survived.csv\", index_label = [\"PassengerId\"])",
      "execution_count": 18,
      "outputs": []
    },
    {
      "metadata": {
        "_uuid": "158fe137f77185559b6d34063cbbb5150e62161c"
      },
      "cell_type": "markdown",
      "source": "## Check for the family size\nPeople having a large family size will have small chances of survival.  \n`family_size = number of parents/children + number of siblings/spouse + the individual itself`"
    },
    {
      "metadata": {
        "_cell_guid": "7ee84007-8b11-4e4e-9dc8-9ffab01f2776",
        "_uuid": "cd5a48575e0d35118035999b4b9d11fc8f9329a7",
        "trusted": true
      },
      "cell_type": "code",
      "source": "train['family_size'] = train['Parch'] + train['SibSp'] + 1\ntest['family_size'] = test['Parch'] + test['SibSp'] + 1\ntrain.head()",
      "execution_count": 19,
      "outputs": [
        {
          "output_type": "execute_result",
          "execution_count": 19,
          "data": {
            "text/plain": "   PassengerId  Survived  Pclass  \\\n0            1         0       3   \n1            2         1       1   \n2            3         1       3   \n3            4         1       1   \n4            5         0       3   \n\n                                                Name Sex   Age  SibSp  Parch  \\\n0                            Braund, Mr. Owen Harris   0  22.0      1      0   \n1  Cumings, Mrs. John Bradley (Florence Briggs Th...   1  38.0      1      0   \n2                             Heikkinen, Miss. Laina   1  26.0      0      0   \n3       Futrelle, Mrs. Jacques Heath (Lily May Peel)   1  35.0      1      0   \n4                           Allen, Mr. William Henry   0  35.0      0      0   \n\n             Ticket     Fare Cabin Embarked  Child  family_size  \n0         A/5 21171   7.2500   NaN        0    0.0            2  \n1          PC 17599  71.2833   C85        1    0.0            2  \n2  STON/O2. 3101282   7.9250   NaN        0    0.0            1  \n3            113803  53.1000  C123        0    0.0            2  \n4            373450   8.0500   NaN        0    0.0            1  ",
            "text/html": "<div>\n<style>\n    .dataframe thead tr:only-child th {\n        text-align: right;\n    }\n\n    .dataframe thead th {\n        text-align: left;\n    }\n\n    .dataframe tbody tr th {\n        vertical-align: top;\n    }\n</style>\n<table border=\"1\" class=\"dataframe\">\n  <thead>\n    <tr style=\"text-align: right;\">\n      <th></th>\n      <th>PassengerId</th>\n      <th>Survived</th>\n      <th>Pclass</th>\n      <th>Name</th>\n      <th>Sex</th>\n      <th>Age</th>\n      <th>SibSp</th>\n      <th>Parch</th>\n      <th>Ticket</th>\n      <th>Fare</th>\n      <th>Cabin</th>\n      <th>Embarked</th>\n      <th>Child</th>\n      <th>family_size</th>\n    </tr>\n  </thead>\n  <tbody>\n    <tr>\n      <th>0</th>\n      <td>1</td>\n      <td>0</td>\n      <td>3</td>\n      <td>Braund, Mr. Owen Harris</td>\n      <td>0</td>\n      <td>22.0</td>\n      <td>1</td>\n      <td>0</td>\n      <td>A/5 21171</td>\n      <td>7.2500</td>\n      <td>NaN</td>\n      <td>0</td>\n      <td>0.0</td>\n      <td>2</td>\n    </tr>\n    <tr>\n      <th>1</th>\n      <td>2</td>\n      <td>1</td>\n      <td>1</td>\n      <td>Cumings, Mrs. John Bradley (Florence Briggs Th...</td>\n      <td>1</td>\n      <td>38.0</td>\n      <td>1</td>\n      <td>0</td>\n      <td>PC 17599</td>\n      <td>71.2833</td>\n      <td>C85</td>\n      <td>1</td>\n      <td>0.0</td>\n      <td>2</td>\n    </tr>\n    <tr>\n      <th>2</th>\n      <td>3</td>\n      <td>1</td>\n      <td>3</td>\n      <td>Heikkinen, Miss. Laina</td>\n      <td>1</td>\n      <td>26.0</td>\n      <td>0</td>\n      <td>0</td>\n      <td>STON/O2. 3101282</td>\n      <td>7.9250</td>\n      <td>NaN</td>\n      <td>0</td>\n      <td>0.0</td>\n      <td>1</td>\n    </tr>\n    <tr>\n      <th>3</th>\n      <td>4</td>\n      <td>1</td>\n      <td>1</td>\n      <td>Futrelle, Mrs. Jacques Heath (Lily May Peel)</td>\n      <td>1</td>\n      <td>35.0</td>\n      <td>1</td>\n      <td>0</td>\n      <td>113803</td>\n      <td>53.1000</td>\n      <td>C123</td>\n      <td>0</td>\n      <td>0.0</td>\n      <td>2</td>\n    </tr>\n    <tr>\n      <th>4</th>\n      <td>5</td>\n      <td>0</td>\n      <td>3</td>\n      <td>Allen, Mr. William Henry</td>\n      <td>0</td>\n      <td>35.0</td>\n      <td>0</td>\n      <td>0</td>\n      <td>373450</td>\n      <td>8.0500</td>\n      <td>NaN</td>\n      <td>0</td>\n      <td>0.0</td>\n      <td>1</td>\n    </tr>\n  </tbody>\n</table>\n</div>"
          },
          "metadata": {}
        }
      ]
    },
    {
      "metadata": {
        "_cell_guid": "66835f07-abbc-409a-9ac8-e2dcd7d52910",
        "_uuid": "4548ad7bc5f705576a270da3a08f1314b2ea272a",
        "trusted": true
      },
      "cell_type": "code",
      "source": "# Create a new feature array\nfeatures_family = train[['Pclass', 'Sex', 'Age', 'Fare', 'SibSp', 'Parch', 'family_size']].values\ntest_features_family = test[['Pclass', 'Sex', 'Age', 'Fare', 'SibSp', 'Parch', 'family_size']].values",
      "execution_count": 20,
      "outputs": []
    },
    {
      "metadata": {
        "_cell_guid": "71ec10d2-f536-4087-a640-80cef5105447",
        "_uuid": "2a3efa490b4abdd8c3178a29d313bee39df6dbe4",
        "collapsed": true,
        "trusted": true
      },
      "cell_type": "code",
      "source": "decision_tree_family = DecisionTreeClassifier()\ndecision_tree_family = decision_tree_family.fit(features_family, target)",
      "execution_count": 21,
      "outputs": []
    },
    {
      "metadata": {
        "_cell_guid": "d2858f81-eb61-4516-a2c4-834a600eb89b",
        "_uuid": "958053a7781170d3fdf56bef5a2afaac42403c86",
        "trusted": true
      },
      "cell_type": "code",
      "source": "decision_tree_family.score(features_family, target)",
      "execution_count": 22,
      "outputs": [
        {
          "output_type": "execute_result",
          "execution_count": 22,
          "data": {
            "text/plain": "0.97979797979797978"
          },
          "metadata": {}
        }
      ]
    },
    {
      "metadata": {
        "trusted": true,
        "_uuid": "535989e4f847ff002d513e0c0af12f62eb2f27ea"
      },
      "cell_type": "code",
      "source": "predictions_family = decision_tree_family.predict(test_features_family)",
      "execution_count": 23,
      "outputs": []
    },
    {
      "metadata": {
        "trusted": true,
        "collapsed": true,
        "_uuid": "22acca9291a57801034aef3f21cc209b9eca495c"
      },
      "cell_type": "code",
      "source": "# Create a data frame with two columns: PassengerId & Survived.\n# Survived contains the predictions\nPassengerId = np.array(test['PassengerId']).astype(int)\nsolution_family = pd.DataFrame(predictions_family, PassengerId, columns = ['Survived'])",
      "execution_count": 24,
      "outputs": []
    },
    {
      "metadata": {
        "trusted": true,
        "_uuid": "a1624d744395628a7e8b6e3701ec92862defa2b8"
      },
      "cell_type": "code",
      "source": "solution_family.head()",
      "execution_count": 25,
      "outputs": [
        {
          "output_type": "execute_result",
          "execution_count": 25,
          "data": {
            "text/plain": "     Survived\n892         0\n893         0\n894         1\n895         1\n896         1",
            "text/html": "<div>\n<style>\n    .dataframe thead tr:only-child th {\n        text-align: right;\n    }\n\n    .dataframe thead th {\n        text-align: left;\n    }\n\n    .dataframe tbody tr th {\n        vertical-align: top;\n    }\n</style>\n<table border=\"1\" class=\"dataframe\">\n  <thead>\n    <tr style=\"text-align: right;\">\n      <th></th>\n      <th>Survived</th>\n    </tr>\n  </thead>\n  <tbody>\n    <tr>\n      <th>892</th>\n      <td>0</td>\n    </tr>\n    <tr>\n      <th>893</th>\n      <td>0</td>\n    </tr>\n    <tr>\n      <th>894</th>\n      <td>1</td>\n    </tr>\n    <tr>\n      <th>895</th>\n      <td>1</td>\n    </tr>\n    <tr>\n      <th>896</th>\n      <td>1</td>\n    </tr>\n  </tbody>\n</table>\n</div>"
          },
          "metadata": {}
        }
      ]
    },
    {
      "metadata": {
        "trusted": true,
        "collapsed": true,
        "_uuid": "c2611d7fcc6c1e6e28cd234de008988f48d41188"
      },
      "cell_type": "code",
      "source": "# Write the solution to a csv file\nsolution_family.to_csv(\"solution_family.csv\", index_label = [\"PassengerId\"])",
      "execution_count": null,
      "outputs": []
    },
    {
      "metadata": {
        "_uuid": "e181ba4d7757a0cf53f6efad8ef767eda42f1f8b"
      },
      "cell_type": "markdown",
      "source": "## Using Random Forest Classifier\nThe Port of Embarkation also plays some important role in determining the survival of passengers. So we include the following features for the Random Forest Classifier.\n- Pclass\n- Age\n- Sex\n- Fare\n- SibSp\n- Parch\n- Embarked"
    },
    {
      "metadata": {
        "_cell_guid": "cb3f4539-a9b7-4365-995b-25d5717cf72c",
        "_uuid": "44cdd49805f47e7b9841ac14a35435ac1df39188",
        "collapsed": true,
        "trusted": true
      },
      "cell_type": "code",
      "source": "features_forest = train[[\"Pclass\", \"Age\", \"Sex\", \"Fare\", \"SibSp\", \"Parch\", \"Embarked\"]].values",
      "execution_count": null,
      "outputs": []
    },
    {
      "metadata": {
        "_cell_guid": "a69a346b-698d-43d9-ae6b-b8a83f77beca",
        "_uuid": "8fa2ea8224e734e0c594d6950f006bf8c134cf83",
        "collapsed": true,
        "trusted": true
      },
      "cell_type": "code",
      "source": "forest = RandomForestClassifier(\n    max_depth=10, min_samples_split=2, n_estimators=100, random_state=1\n)\nmy_forest = forest.fit(features_forest, target)",
      "execution_count": null,
      "outputs": []
    },
    {
      "metadata": {
        "_cell_guid": "0165b6e0-fd09-4df3-852e-9e99c0e0e12b",
        "_uuid": "a7633ede104c04124574973f6950f579037f797f",
        "trusted": true
      },
      "cell_type": "code",
      "source": "# Forest score\nprint(my_forest.score(features_forest, target))",
      "execution_count": null,
      "outputs": []
    },
    {
      "metadata": {
        "_cell_guid": "6fe47435-c684-4125-b720-b6c643fe6dc3",
        "_uuid": "87c8065c821ac1d814936d61a6625c9a80d2c60e",
        "collapsed": true,
        "trusted": true
      },
      "cell_type": "code",
      "source": "# Compute predictions the test set features\ntest_features = test[[\"Pclass\", \"Age\", \"Sex\", \"Fare\", \"SibSp\", \"Parch\", \"Embarked\"]].values\npred_forest = my_forest.predict(test_features)",
      "execution_count": null,
      "outputs": []
    },
    {
      "metadata": {
        "_cell_guid": "3c454a28-7131-4745-a481-6a3297e3ea09",
        "_uuid": "ed74fac9f9b01fa6fdc9166efea23e4b034b249f",
        "trusted": true
      },
      "cell_type": "code",
      "source": "# print the `.feature_importances_` attribute\nprint(my_forest.feature_importances_)\n\n# Compute and print the mean accuracy score\nprint(my_forest.score(features_forest, target))",
      "execution_count": null,
      "outputs": []
    },
    {
      "metadata": {
        "_cell_guid": "66ef8fbc-cb02-4031-9fc8-c8f114cb22c8",
        "_uuid": "c4fe1f712d94d0650cb3c00011d3193f4ade3a39",
        "collapsed": true,
        "trusted": true
      },
      "cell_type": "code",
      "source": "# Create a data frame with two columns: PassengerId & Survived.\n# Survived contains the predictions\nPassengerId = np.array(test['PassengerId']).astype(int)\nsolution_tree = pd.DataFrame(pred_forest, PassengerId, columns = ['Survived'])",
      "execution_count": null,
      "outputs": []
    },
    {
      "metadata": {
        "_cell_guid": "e7e47a26-aa25-4bee-a04e-2d2b5e287dd3",
        "_uuid": "b1c4989228343575ff09c13748a89010b3a272e6",
        "collapsed": true,
        "trusted": true
      },
      "cell_type": "code",
      "source": "solution_tree.head()",
      "execution_count": null,
      "outputs": []
    },
    {
      "metadata": {
        "_cell_guid": "7e8d80a1-8df4-43bc-8c20-90c72df26500",
        "_uuid": "b5f76f04da72f415beb3cc2616dead05a402acb3",
        "collapsed": true,
        "trusted": true
      },
      "cell_type": "code",
      "source": "# Write the solution to a csv file\nsolution_tree.to_csv(\"solution_tree.csv\", index_label = [\"PassengerId\"])",
      "execution_count": null,
      "outputs": []
    },
    {
      "metadata": {
        "_cell_guid": "b3c3601b-a333-48c8-9e66-5a62b149460e",
        "_uuid": "bf4221ced387eca76260cf91932a25c946d46d00",
        "collapsed": true,
        "trusted": true
      },
      "cell_type": "code",
      "source": "",
      "execution_count": null,
      "outputs": []
    }
  ],
  "metadata": {
    "kernelspec": {
      "display_name": "Python 3",
      "language": "python",
      "name": "python3"
    },
    "language_info": {
      "name": "python",
      "version": "3.6.3",
      "mimetype": "text/x-python",
      "codemirror_mode": {
        "name": "ipython",
        "version": 3
      },
      "pygments_lexer": "ipython3",
      "nbconvert_exporter": "python",
      "file_extension": ".py"
    }
  },
  "nbformat": 4,
  "nbformat_minor": 1
}