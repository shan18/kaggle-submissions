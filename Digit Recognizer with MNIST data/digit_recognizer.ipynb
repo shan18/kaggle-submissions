{
 "cells": [
  {
   "cell_type": "markdown",
   "metadata": {
    "_uuid": "6eec41713cf8ff6c256bd1adb669bc08a5b696b5"
   },
   "source": [
    "## Import Packages"
   ]
  },
  {
   "cell_type": "code",
   "execution_count": 1,
   "metadata": {
    "_cell_guid": "0906b68b-3df5-4c14-8130-87b7fe7cc6f3",
    "_uuid": "3e2adda87e0d4f65243d45a96f626cf5e288516c"
   },
   "outputs": [
    {
     "name": "stderr",
     "output_type": "stream",
     "text": [
      "Using Theano backend.\n"
     ]
    }
   ],
   "source": [
    "import numpy as np\n",
    "import pandas as pd\n",
    "import seaborn as sns\n",
    "import matplotlib.pyplot as plt\n",
    "import matplotlib.image as mpimg\n",
    "%matplotlib inline\n",
    "\n",
    "import itertools\n",
    "\n",
    "from sklearn.model_selection import train_test_split\n",
    "from sklearn.metrics import confusion_matrix\n",
    "\n",
    "from keras.utils.np_utils import to_categorical\n",
    "from keras.models import Sequential\n",
    "from keras.layers import Dense, Dropout, Flatten, Conv2D, MaxPool2D\n",
    "from keras.optimizers import RMSprop\n",
    "from keras.callbacks import ReduceLROnPlateau\n",
    "from keras.preprocessing.image import ImageDataGenerator\n",
    "\n",
    "np.random.seed(2)"
   ]
  },
  {
   "cell_type": "markdown",
   "metadata": {
    "_uuid": "d3169b8d57c7b7a00d8bdec374436e3e054881fb"
   },
   "source": [
    "# Data loading and visualization"
   ]
  },
  {
   "cell_type": "code",
   "execution_count": 3,
   "metadata": {
    "_uuid": "ea62bb249d47b1656981b28acbb369c7b8f4564c"
   },
   "outputs": [],
   "source": [
    "# Load data\n",
    "train = pd.read_csv('input/train.csv')\n",
    "test = pd.read_csv('input/test.csv')"
   ]
  },
  {
   "cell_type": "code",
   "execution_count": 4,
   "metadata": {
    "_uuid": "7cadc4f11e8183b1e3ef633cf208731a973572be"
   },
   "outputs": [
    {
     "data": {
      "text/html": [
       "<div>\n",
       "<style scoped>\n",
       "    .dataframe tbody tr th:only-of-type {\n",
       "        vertical-align: middle;\n",
       "    }\n",
       "\n",
       "    .dataframe tbody tr th {\n",
       "        vertical-align: top;\n",
       "    }\n",
       "\n",
       "    .dataframe thead th {\n",
       "        text-align: right;\n",
       "    }\n",
       "</style>\n",
       "<table border=\"1\" class=\"dataframe\">\n",
       "  <thead>\n",
       "    <tr style=\"text-align: right;\">\n",
       "      <th></th>\n",
       "      <th>label</th>\n",
       "      <th>pixel0</th>\n",
       "      <th>pixel1</th>\n",
       "      <th>pixel2</th>\n",
       "      <th>pixel3</th>\n",
       "      <th>pixel4</th>\n",
       "      <th>pixel5</th>\n",
       "      <th>pixel6</th>\n",
       "      <th>pixel7</th>\n",
       "      <th>pixel8</th>\n",
       "      <th>...</th>\n",
       "      <th>pixel774</th>\n",
       "      <th>pixel775</th>\n",
       "      <th>pixel776</th>\n",
       "      <th>pixel777</th>\n",
       "      <th>pixel778</th>\n",
       "      <th>pixel779</th>\n",
       "      <th>pixel780</th>\n",
       "      <th>pixel781</th>\n",
       "      <th>pixel782</th>\n",
       "      <th>pixel783</th>\n",
       "    </tr>\n",
       "  </thead>\n",
       "  <tbody>\n",
       "    <tr>\n",
       "      <th>0</th>\n",
       "      <td>1</td>\n",
       "      <td>0</td>\n",
       "      <td>0</td>\n",
       "      <td>0</td>\n",
       "      <td>0</td>\n",
       "      <td>0</td>\n",
       "      <td>0</td>\n",
       "      <td>0</td>\n",
       "      <td>0</td>\n",
       "      <td>0</td>\n",
       "      <td>...</td>\n",
       "      <td>0</td>\n",
       "      <td>0</td>\n",
       "      <td>0</td>\n",
       "      <td>0</td>\n",
       "      <td>0</td>\n",
       "      <td>0</td>\n",
       "      <td>0</td>\n",
       "      <td>0</td>\n",
       "      <td>0</td>\n",
       "      <td>0</td>\n",
       "    </tr>\n",
       "    <tr>\n",
       "      <th>1</th>\n",
       "      <td>0</td>\n",
       "      <td>0</td>\n",
       "      <td>0</td>\n",
       "      <td>0</td>\n",
       "      <td>0</td>\n",
       "      <td>0</td>\n",
       "      <td>0</td>\n",
       "      <td>0</td>\n",
       "      <td>0</td>\n",
       "      <td>0</td>\n",
       "      <td>...</td>\n",
       "      <td>0</td>\n",
       "      <td>0</td>\n",
       "      <td>0</td>\n",
       "      <td>0</td>\n",
       "      <td>0</td>\n",
       "      <td>0</td>\n",
       "      <td>0</td>\n",
       "      <td>0</td>\n",
       "      <td>0</td>\n",
       "      <td>0</td>\n",
       "    </tr>\n",
       "    <tr>\n",
       "      <th>2</th>\n",
       "      <td>1</td>\n",
       "      <td>0</td>\n",
       "      <td>0</td>\n",
       "      <td>0</td>\n",
       "      <td>0</td>\n",
       "      <td>0</td>\n",
       "      <td>0</td>\n",
       "      <td>0</td>\n",
       "      <td>0</td>\n",
       "      <td>0</td>\n",
       "      <td>...</td>\n",
       "      <td>0</td>\n",
       "      <td>0</td>\n",
       "      <td>0</td>\n",
       "      <td>0</td>\n",
       "      <td>0</td>\n",
       "      <td>0</td>\n",
       "      <td>0</td>\n",
       "      <td>0</td>\n",
       "      <td>0</td>\n",
       "      <td>0</td>\n",
       "    </tr>\n",
       "    <tr>\n",
       "      <th>3</th>\n",
       "      <td>4</td>\n",
       "      <td>0</td>\n",
       "      <td>0</td>\n",
       "      <td>0</td>\n",
       "      <td>0</td>\n",
       "      <td>0</td>\n",
       "      <td>0</td>\n",
       "      <td>0</td>\n",
       "      <td>0</td>\n",
       "      <td>0</td>\n",
       "      <td>...</td>\n",
       "      <td>0</td>\n",
       "      <td>0</td>\n",
       "      <td>0</td>\n",
       "      <td>0</td>\n",
       "      <td>0</td>\n",
       "      <td>0</td>\n",
       "      <td>0</td>\n",
       "      <td>0</td>\n",
       "      <td>0</td>\n",
       "      <td>0</td>\n",
       "    </tr>\n",
       "    <tr>\n",
       "      <th>4</th>\n",
       "      <td>0</td>\n",
       "      <td>0</td>\n",
       "      <td>0</td>\n",
       "      <td>0</td>\n",
       "      <td>0</td>\n",
       "      <td>0</td>\n",
       "      <td>0</td>\n",
       "      <td>0</td>\n",
       "      <td>0</td>\n",
       "      <td>0</td>\n",
       "      <td>...</td>\n",
       "      <td>0</td>\n",
       "      <td>0</td>\n",
       "      <td>0</td>\n",
       "      <td>0</td>\n",
       "      <td>0</td>\n",
       "      <td>0</td>\n",
       "      <td>0</td>\n",
       "      <td>0</td>\n",
       "      <td>0</td>\n",
       "      <td>0</td>\n",
       "    </tr>\n",
       "  </tbody>\n",
       "</table>\n",
       "<p>5 rows × 785 columns</p>\n",
       "</div>"
      ],
      "text/plain": [
       "   label  pixel0  pixel1  pixel2  pixel3  pixel4  pixel5  pixel6  pixel7  \\\n",
       "0      1       0       0       0       0       0       0       0       0   \n",
       "1      0       0       0       0       0       0       0       0       0   \n",
       "2      1       0       0       0       0       0       0       0       0   \n",
       "3      4       0       0       0       0       0       0       0       0   \n",
       "4      0       0       0       0       0       0       0       0       0   \n",
       "\n",
       "   pixel8    ...     pixel774  pixel775  pixel776  pixel777  pixel778  \\\n",
       "0       0    ...            0         0         0         0         0   \n",
       "1       0    ...            0         0         0         0         0   \n",
       "2       0    ...            0         0         0         0         0   \n",
       "3       0    ...            0         0         0         0         0   \n",
       "4       0    ...            0         0         0         0         0   \n",
       "\n",
       "   pixel779  pixel780  pixel781  pixel782  pixel783  \n",
       "0         0         0         0         0         0  \n",
       "1         0         0         0         0         0  \n",
       "2         0         0         0         0         0  \n",
       "3         0         0         0         0         0  \n",
       "4         0         0         0         0         0  \n",
       "\n",
       "[5 rows x 785 columns]"
      ]
     },
     "execution_count": 4,
     "metadata": {},
     "output_type": "execute_result"
    }
   ],
   "source": [
    "# Training data description\n",
    "# test data will not have the label column\n",
    "train.head()"
   ]
  },
  {
   "cell_type": "code",
   "execution_count": 5,
   "metadata": {
    "_uuid": "8266f7fdacc660a08b3e4bce9a73d5e6299996f3"
   },
   "outputs": [
    {
     "data": {
      "text/plain": [
       "1    4684\n",
       "7    4401\n",
       "3    4351\n",
       "9    4188\n",
       "2    4177\n",
       "6    4137\n",
       "0    4132\n",
       "4    4072\n",
       "8    4063\n",
       "5    3795\n",
       "Name: label, dtype: int64"
      ]
     },
     "execution_count": 5,
     "metadata": {},
     "output_type": "execute_result"
    },
    {
     "data": {
      "image/png": "[encoded data removed]",
      "text/plain": [
       "<matplotlib.figure.Figure at 0x7f822f2fc240>"
      ]
     },
     "metadata": {},
     "output_type": "display_data"
    }
   ],
   "source": [
    "# Store the labels\n",
    "Y_train = train['label']\n",
    "\n",
    "# Drop the label column and store the data as input\n",
    "X_train = train.drop(labels=['label'], axis=1)\n",
    "\n",
    "# Visulalization and description of outputs\n",
    "g = sns.countplot(Y_train)\n",
    "Y_train.value_counts()"
   ]
  },
  {
   "cell_type": "code",
   "execution_count": 6,
   "metadata": {
    "_uuid": "72bbcd57030b724761a7ec904f134570a1e64b9b"
   },
   "outputs": [
    {
     "data": {
      "text/plain": [
       "count       784\n",
       "unique        1\n",
       "top       False\n",
       "freq        784\n",
       "dtype: object"
      ]
     },
     "execution_count": 6,
     "metadata": {},
     "output_type": "execute_result"
    }
   ],
   "source": [
    "# Check for null and missing values in training data\n",
    "X_train.isnull().any().describe()"
   ]
  },
  {
   "cell_type": "code",
   "execution_count": 7,
   "metadata": {
    "_uuid": "6991ad441d76087c42cff544a97830b2c95b0d9c"
   },
   "outputs": [
    {
     "data": {
      "text/plain": [
       "count       784\n",
       "unique        1\n",
       "top       False\n",
       "freq        784\n",
       "dtype: object"
      ]
     },
     "execution_count": 7,
     "metadata": {},
     "output_type": "execute_result"
    }
   ],
   "source": [
    "# Check for null and missing values in test data\n",
    "test.isnull().any().describe()"
   ]
  },
  {
   "cell_type": "code",
   "execution_count": 8,
   "metadata": {
    "_uuid": "fca66a53f491ad968660ed2a16a730984d95b84a"
   },
   "outputs": [
    {
     "data": {
      "text/plain": [
       "array([[0, 0, 0, ..., 0, 0, 0],\n",
       "       [0, 0, 0, ..., 0, 0, 0],\n",
       "       [0, 0, 0, ..., 0, 0, 0],\n",
       "       ..., \n",
       "       [0, 0, 0, ..., 0, 0, 0],\n",
       "       [0, 0, 0, ..., 0, 0, 0],\n",
       "       [0, 0, 0, ..., 0, 0, 0]])"
      ]
     },
     "execution_count": 8,
     "metadata": {},
     "output_type": "execute_result"
    }
   ],
   "source": [
    "X_train.values"
   ]
  },
  {
   "cell_type": "code",
   "execution_count": 9,
   "metadata": {
    "_uuid": "77582904d6367072894172f48f265d28af766365"
   },
   "outputs": [],
   "source": [
    "# Normalization (grayscale to increase performance of CNN)\n",
    "X_train /= 255\n",
    "test /= 255"
   ]
  },
  {
   "cell_type": "code",
   "execution_count": 10,
   "metadata": {
    "_uuid": "8a8ac04222f739cfb6281bdbced82ebb0c4cb5ae"
   },
   "outputs": [],
   "source": [
    "# Reshape image in 3 dimensions (height = 28px, width = 28px , canal = 1)\n",
    "# Keras requires an extra dimension in the end which correspond to channels. \n",
    "# Since MNIST images are gray scaled so it uses only one channel.\n",
    "# For RGB images, there are 3 channels,\n",
    "X_train = X_train.values.reshape(-1, 28, 28, 1)\n",
    "test = test.values.reshape(-1, 28, 28, 1)"
   ]
  },
  {
   "cell_type": "code",
   "execution_count": 11,
   "metadata": {
    "_uuid": "b4bb17483a42d106c14a835e9d63a1dc6746381d"
   },
   "outputs": [],
   "source": [
    "# Encode labels to one hot vectors (10 classes: 0-9)\n",
    "Y_train = to_categorical(Y_train, num_classes=10)"
   ]
  },
  {
   "cell_type": "code",
   "execution_count": 12,
   "metadata": {
    "_uuid": "2f979aefa7d444f620590f43da5e6ab7101562e1"
   },
   "outputs": [],
   "source": [
    "random_seed = 2\n",
    "\n",
    "# Split the train and the validation set for the fitting\n",
    "X_train, X_val, Y_train, Y_val = train_test_split(\n",
    "    X_train, Y_train, test_size=0.1, random_state=random_seed\n",
    ")"
   ]
  },
  {
   "cell_type": "code",
   "execution_count": 13,
   "metadata": {
    "_uuid": "79d89a4e16c0116d7a42dcd2b5764c90ff349d3b"
   },
   "outputs": [
    {
     "data": {
      "image/png": "[encoded data removed]",
      "text/plain": [
       "<matplotlib.figure.Figure at 0x7f822f31f828>"
      ]
     },
     "metadata": {},
     "output_type": "display_data"
    }
   ],
   "source": [
    "# see an example\n",
    "g = plt.imshow(X_train[4][:,:,0])"
   ]
  },
  {
   "cell_type": "markdown",
   "metadata": {
    "_uuid": "b638c8506419940a0bf98727e3893c9c432659aa"
   },
   "source": [
    "# CNN"
   ]
  },
  {
   "cell_type": "code",
   "execution_count": 14,
   "metadata": {
    "_uuid": "f5f316ef3cbc8c1b99be7a4c82d05ba4a7d9a5c9"
   },
   "outputs": [],
   "source": [
    "# Set CNN model\n",
    "# architecture used: In -> [[Conv2D->relu]*2 -> MaxPool2D -> Dropout]*2 ->\n",
    "# Flatten -> Dense -> Dropout -> Out\n",
    "\n",
    "model = Sequential()\n",
    "\n",
    "model.add(Conv2D(\n",
    "    filters=32, kernel_size=(5,5), padding='Same', activation='relu', input_shape=(28,28,1)\n",
    "))\n",
    "model.add(Conv2D(\n",
    "    filters=32, kernel_size=(5,5), padding='Same', activation='relu'\n",
    "))\n",
    "model.add(MaxPool2D(pool_size=(2,2)))\n",
    "model.add(Dropout(0.25))\n",
    "\n",
    "model.add(Conv2D(\n",
    "    filters=32, kernel_size=(5,5), padding='Same', activation='relu'\n",
    "))\n",
    "model.add(Conv2D(\n",
    "    filters=32, kernel_size=(5,5), padding='Same', activation='relu'\n",
    "))\n",
    "model.add(MaxPool2D(pool_size=(2,2)))\n",
    "model.add(Dropout(0.25))\n",
    "\n",
    "model.add(Flatten())\n",
    "model.add(Dense(256, activation='relu'))\n",
    "model.add(Dropout(0.5))\n",
    "model.add(Dense(10, activation='softmax'))"
   ]
  },
  {
   "cell_type": "code",
   "execution_count": 15,
   "metadata": {
    "_uuid": "8c4d3a13f6a0c3cf197c2761ad0fe3b3f67a7ab3"
   },
   "outputs": [],
   "source": [
    "# Define the optimize\n",
    "optimizer = RMSprop(lr=0.001, epsilon=1e-08)"
   ]
  },
  {
   "cell_type": "code",
   "execution_count": 16,
   "metadata": {
    "_uuid": "4501bc32d5827a129d277d72b8ca751378e8079e"
   },
   "outputs": [],
   "source": [
    "# Compile the model\n",
    "model.compile(optimizer=optimizer, loss='categorical_crossentropy', metrics=['accuracy'])"
   ]
  },
  {
   "cell_type": "code",
   "execution_count": 17,
   "metadata": {
    "_uuid": "5f23a13ee65273775dd169520822521fba0575ae"
   },
   "outputs": [],
   "source": [
    "# Learning rate annealer\n",
    "# LR is reduced by half if the accuracy is not improved after 3 epochs.\n",
    "\n",
    "learning_rate_reduction = ReduceLROnPlateau(\n",
    "    monitor='val_loss',\n",
    "    factor=0.5,\n",
    "    patience=3,\n",
    "    verbose=1,\n",
    "    min_lr=0.00001\n",
    ")"
   ]
  },
  {
   "cell_type": "code",
   "execution_count": 18,
   "metadata": {
    "_uuid": "58d197825fa8d47f2f7c0977cdf10be3be1e0b81"
   },
   "outputs": [],
   "source": [
    "epochs = 30\n",
    "batch_size = 86"
   ]
  },
  {
   "cell_type": "markdown",
   "metadata": {
    "_uuid": "967dea4735350b39810b853bb4c4f338215398dd"
   },
   "source": [
    "# Data Augmentation"
   ]
  },
  {
   "cell_type": "code",
   "execution_count": 19,
   "metadata": {
    "_uuid": "230074cccb6f4bdecf6ba799a1e6511c631e5667"
   },
   "outputs": [],
   "source": [
    "# Applying data augmentation to prevent overfitting.\n",
    "# We don't apply horizontal and vertical fluipping because then the model\n",
    "# would misclassify numbers 6 and 9.\n",
    "\n",
    "datagen = ImageDataGenerator(\n",
    "    rotation_range=10,  # randomly rotate images by 10 degrees\n",
    "    zoom_range = 0.1, # Randomly zoom image\n",
    "    width_shift_range=0.1,  # randomly shift images horizontally (fraction of total width)\n",
    "    height_shift_range=0.1,  # randomly shift images vertically (fraction of total height)\n",
    "    horizontal_flip=False,\n",
    "    vertical_flip=False\n",
    ")\n",
    "\n",
    "datagen.fit(X_train)"
   ]
  },
  {
   "cell_type": "code",
   "execution_count": 20,
   "metadata": {
    "_uuid": "6bcc6a233f9975c73942b10b59a88f77f24b0adb"
   },
   "outputs": [
    {
     "name": "stdout",
     "output_type": "stream",
     "text": [
      "Epoch 1/30\n",
      " - 302s - loss: 0.4163 - acc: 0.8634 - val_loss: 0.0677 - val_acc: 0.9788\n",
      "Epoch 2/30\n",
      " - 285s - loss: 0.1331 - acc: 0.9605 - val_loss: 0.0417 - val_acc: 0.9876\n",
      "Epoch 3/30\n",
      " - 285s - loss: 0.0964 - acc: 0.9715 - val_loss: 0.0333 - val_acc: 0.9895\n",
      "Epoch 4/30\n",
      " - 284s - loss: 0.0834 - acc: 0.9763 - val_loss: 0.0347 - val_acc: 0.9895\n",
      "Epoch 5/30\n",
      " - 296s - loss: 0.0741 - acc: 0.9783 - val_loss: 0.0290 - val_acc: 0.9924\n",
      "Epoch 6/30\n",
      " - 279s - loss: 0.0674 - acc: 0.9803 - val_loss: 0.0348 - val_acc: 0.9926\n",
      "Epoch 7/30\n",
      " - 278s - loss: 0.0642 - acc: 0.9812 - val_loss: 0.0237 - val_acc: 0.9921\n",
      "Epoch 8/30\n",
      " - 281s - loss: 0.0634 - acc: 0.9820 - val_loss: 0.0333 - val_acc: 0.9910\n",
      "Epoch 9/30\n",
      " - 278s - loss: 0.0612 - acc: 0.9828 - val_loss: 0.0250 - val_acc: 0.9926\n",
      "Epoch 10/30\n",
      " - 277s - loss: 0.0589 - acc: 0.9838 - val_loss: 0.0224 - val_acc: 0.9936\n",
      "Epoch 11/30\n",
      " - 288s - loss: 0.0609 - acc: 0.9833 - val_loss: 0.0254 - val_acc: 0.9938\n",
      "Epoch 12/30\n",
      " - 277s - loss: 0.0612 - acc: 0.9832 - val_loss: 0.0192 - val_acc: 0.9938\n",
      "Epoch 13/30\n",
      " - 277s - loss: 0.0612 - acc: 0.9836 - val_loss: 0.0290 - val_acc: 0.9924\n",
      "Epoch 14/30\n",
      " - 277s - loss: 0.0587 - acc: 0.9838 - val_loss: 0.0314 - val_acc: 0.9914\n",
      "Epoch 15/30\n",
      " - 276s - loss: 0.0634 - acc: 0.9823 - val_loss: 0.0266 - val_acc: 0.9919\n",
      "Epoch 16/30\n",
      "\n",
      "Epoch 00016: ReduceLROnPlateau reducing learning rate to 0.0005000000237487257.\n",
      " - 277s - loss: 0.0624 - acc: 0.9835 - val_loss: 0.0329 - val_acc: 0.9919\n",
      "Epoch 17/30\n",
      " - 276s - loss: 0.0495 - acc: 0.9863 - val_loss: 0.0187 - val_acc: 0.9931\n",
      "Epoch 18/30\n",
      " - 276s - loss: 0.0433 - acc: 0.9881 - val_loss: 0.0194 - val_acc: 0.9938\n",
      "Epoch 19/30\n",
      " - 276s - loss: 0.0462 - acc: 0.9871 - val_loss: 0.0244 - val_acc: 0.9945\n",
      "Epoch 20/30\n",
      " - 276s - loss: 0.0452 - acc: 0.9880 - val_loss: 0.0191 - val_acc: 0.9940\n",
      "Epoch 21/30\n",
      "\n",
      "Epoch 00021: ReduceLROnPlateau reducing learning rate to 0.0002500000118743628.\n",
      " - 276s - loss: 0.0459 - acc: 0.9876 - val_loss: 0.0243 - val_acc: 0.9940\n",
      "Epoch 22/30\n",
      " - 276s - loss: 0.0379 - acc: 0.9890 - val_loss: 0.0189 - val_acc: 0.9948\n",
      "Epoch 23/30\n",
      " - 276s - loss: 0.0382 - acc: 0.9895 - val_loss: 0.0196 - val_acc: 0.9943\n",
      "Epoch 24/30\n",
      "\n",
      "Epoch 00024: ReduceLROnPlateau reducing learning rate to 0.0001250000059371814.\n",
      " - 276s - loss: 0.0374 - acc: 0.9897 - val_loss: 0.0199 - val_acc: 0.9943\n",
      "Epoch 25/30\n",
      " - 276s - loss: 0.0377 - acc: 0.9892 - val_loss: 0.0207 - val_acc: 0.9945\n",
      "Epoch 26/30\n",
      " - 277s - loss: 0.0347 - acc: 0.9906 - val_loss: 0.0179 - val_acc: 0.9950\n",
      "Epoch 27/30\n",
      " - 276s - loss: 0.0312 - acc: 0.9913 - val_loss: 0.0176 - val_acc: 0.9952\n",
      "Epoch 28/30\n",
      " - 275s - loss: 0.0321 - acc: 0.9912 - val_loss: 0.0183 - val_acc: 0.9950\n",
      "Epoch 29/30\n",
      " - 305s - loss: 0.0326 - acc: 0.9911 - val_loss: 0.0196 - val_acc: 0.9957\n",
      "Epoch 30/30\n",
      " - 281s - loss: 0.0331 - acc: 0.9909 - val_loss: 0.0191 - val_acc: 0.9955\n"
     ]
    }
   ],
   "source": [
    "# Fit the model\n",
    "history = model.fit_generator(\n",
    "    datagen.flow(X_train, Y_train, batch_size=batch_size),\n",
    "    epochs=epochs,\n",
    "    validation_data=(X_val, Y_val),\n",
    "    verbose=2,\n",
    "    steps_per_epoch=X_train.shape[0] // batch_size,\n",
    "    callbacks=[learning_rate_reduction]\n",
    ")"
   ]
  },
  {
   "cell_type": "markdown",
   "metadata": {
    "_uuid": "26eee84645670ca924c332930a8e6a05fabd5d6e"
   },
   "source": [
    "# Model Evaluation"
   ]
  },
  {
   "cell_type": "code",
   "execution_count": 21,
   "metadata": {
    "_uuid": "fe520292f1187710f0a29143f2b6fdc3f59bad85"
   },
   "outputs": [
    {
     "data": {
      "image/png": "[encoded data removed]",
      "text/plain": [
       "<matplotlib.figure.Figure at 0x7f81f86b8828>"
      ]
     },
     "metadata": {},
     "output_type": "display_data"
    }
   ],
   "source": [
    "# Plot the loss and accuracy curves for training and validation\n",
    "fig, ax = plt.subplots(2, 1)\n",
    "ax[0].plot(history.history['loss'], color='b', label=\"Training loss\")\n",
    "ax[0].plot(history.history['val_loss'], color='r', label=\"validation loss\",axes=ax[0])\n",
    "legend = ax[0].legend(loc='best', shadow=True)\n",
    "\n",
    "ax[1].plot(history.history['acc'], color='b', label=\"Training accuracy\")\n",
    "ax[1].plot(history.history['val_acc'], color='r',label=\"Validation accuracy\")\n",
    "legend = ax[1].legend(loc='best', shadow=True)"
   ]
  },
  {
   "cell_type": "code",
   "execution_count": 22,
   "metadata": {
    "_uuid": "a142dde2ff6e15ec815257d64718ee07764a6a16"
   },
   "outputs": [],
   "source": [
    "# Confusion matrix\n",
    "\n",
    "def plot_confusion_matrix(cm, classes,\n",
    "                          normalize=False,\n",
    "                          title='Confusion matrix',\n",
    "                          cmap=plt.cm.Blues):\n",
    "    \"\"\"\n",
    "    This function prints and plots the confusion matrix.\n",
    "    Normalization can be applied by setting `normalize=True`.\n",
    "    \"\"\"\n",
    "    plt.imshow(cm, interpolation='nearest', cmap=cmap)\n",
    "    plt.title(title)\n",
    "    plt.colorbar()\n",
    "    tick_marks = np.arange(len(classes))\n",
    "    plt.xticks(tick_marks, classes, rotation=45)\n",
    "    plt.yticks(tick_marks, classes)\n",
    "\n",
    "    if normalize:\n",
    "        cm = cm.astype('float') / cm.sum(axis=1)[:, np.newaxis]\n",
    "\n",
    "    thresh = cm.max() / 2.\n",
    "    for i, j in itertools.product(range(cm.shape[0]), range(cm.shape[1])):\n",
    "        plt.text(j, i, cm[i, j],\n",
    "                 horizontalalignment=\"center\",\n",
    "                 color=\"white\" if cm[i, j] > thresh else \"black\")\n",
    "\n",
    "    plt.tight_layout()\n",
    "    plt.ylabel('True label')\n",
    "    plt.xlabel('Predicted label')"
   ]
  },
  {
   "cell_type": "code",
   "execution_count": 25,
   "metadata": {
    "_uuid": "b58a5fdf9fb6125efb3184a2c7c98778cb5a9977"
   },
   "outputs": [
    {
     "data": {
      "image/png": "[encoded data removed]",
      "text/plain": [
       "<matplotlib.figure.Figure at 0x7f81f86cbbe0>"
      ]
     },
     "metadata": {},
     "output_type": "display_data"
    }
   ],
   "source": [
    "# Prdict values from the validation dataset\n",
    "Y_pred = model.predict(X_val)\n",
    "# Convert predictions classes to one hot vectors\n",
    "Y_pred_classes = np.argmax(Y_pred, axis=1)\n",
    "# Convert validation observations to one hot vectors\n",
    "Y_true = np.argmax(Y_val, axis=1)\n",
    "# compute the confusion matrix\n",
    "confusion_mtx = confusion_matrix(Y_true, Y_pred_classes)\n",
    "# plot the confusion matrix\n",
    "plot_confusion_matrix(confusion_mtx, classes = range(10))"
   ]
  },
  {
   "cell_type": "markdown",
   "metadata": {
    "_uuid": "c8ea372468ddc1d3d4cf92ec708cfc355167fba2"
   },
   "source": [
    "# Check Errors"
   ]
  },
  {
   "cell_type": "code",
   "execution_count": 26,
   "metadata": {
    "_uuid": "df9e0180db9a0b318c833c1bf2b4ace04364aa6d"
   },
   "outputs": [],
   "source": [
    "# Errors are difference between predicted labels and true labels\n",
    "errors = (Y_pred_classes - Y_true != 0)\n",
    "\n",
    "Y_pred_classes_errors = Y_pred_classes[errors]\n",
    "Y_pred_errors = Y_pred[errors]\n",
    "Y_true_errors = Y_true[errors]\n",
    "X_val_errors = X_val[errors]"
   ]
  },
  {
   "cell_type": "code",
   "execution_count": 27,
   "metadata": {
    "_uuid": "ac4a0dae76ba26449a1569e71fadbe279d6c420a"
   },
   "outputs": [],
   "source": [
    "def display_errors(errors_index,img_errors,pred_errors, obs_errors):\n",
    "    \"\"\" This function shows 6 images with their predicted and real labels\"\"\"\n",
    "    n = 0\n",
    "    nrows = 2\n",
    "    ncols = 3\n",
    "    fig, ax = plt.subplots(nrows,ncols,sharex=True,sharey=True)\n",
    "    for row in range(nrows):\n",
    "        for col in range(ncols):\n",
    "            error = errors_index[n]\n",
    "            ax[row,col].imshow((img_errors[error]).reshape((28,28)))\n",
    "            ax[row,col].set_title(\"Predicted label :{}\\nTrue label :{}\".format(pred_errors[error],obs_errors[error]))\n",
    "            n += 1"
   ]
  },
  {
   "cell_type": "code",
   "execution_count": 28,
   "metadata": {
    "_uuid": "e04d53eeaba5fddf128457195c9615f0306ba3c0"
   },
   "outputs": [
    {
     "data": {
      "image/png": "[encoded data removed]",
      "text/plain": [
       "<matplotlib.figure.Figure at 0x7f81f833ec18>"
      ]
     },
     "metadata": {},
     "output_type": "display_data"
    }
   ],
   "source": [
    "# Probabilities of the wrong predicted numbers\n",
    "Y_pred_errors_prob = np.max(Y_pred_errors,axis = 1)\n",
    "\n",
    "# Predicted probabilities of the true values in the error set\n",
    "true_prob_errors = np.diagonal(np.take(Y_pred_errors, Y_true_errors, axis=1))\n",
    "\n",
    "# Difference between the probability of the predicted label and the true label\n",
    "delta_pred_true_errors = Y_pred_errors_prob - true_prob_errors\n",
    "\n",
    "# Sorted list of the delta prob errors\n",
    "sorted_delta_errors = np.argsort(delta_pred_true_errors)\n",
    "\n",
    "# Top 6 errors \n",
    "most_important_errors = sorted_delta_errors[-6:]\n",
    "\n",
    "# Show the top 6 errors\n",
    "display_errors(most_important_errors, X_val_errors, Y_pred_classes_errors, Y_true_errors)"
   ]
  },
  {
   "cell_type": "markdown",
   "metadata": {
    "_uuid": "83fe6a165c23782d677958da42c9686de53ddefc"
   },
   "source": [
    "# Predict Results and Submit"
   ]
  },
  {
   "cell_type": "code",
   "execution_count": 29,
   "metadata": {
    "_uuid": "3ea85b1abe11eb94ebe27b201e891843c59372ec"
   },
   "outputs": [],
   "source": [
    "# predict results\n",
    "results = model.predict(test)\n",
    "\n",
    "# select the index with the maximum probability (convert from one-hot to decimal)\n",
    "results = np.argmax(results, axis=1)\n",
    "\n",
    "results = pd.Series(results, name='Label')"
   ]
  },
  {
   "cell_type": "code",
   "execution_count": 30,
   "metadata": {
    "_uuid": "ca14c426829fa02b0ea237503a099556b048e69c"
   },
   "outputs": [],
   "source": [
    "submission = pd.concat([pd.Series(range(1, 28001), name='ImageId'), results], axis=1)\n",
    "submission.to_csv(\"cnn_mnist_datagen.csv\", index=False)"
   ]
  },
  {
   "cell_type": "code",
   "execution_count": null,
   "metadata": {},
   "outputs": [],
   "source": []
  }
 ],
 "metadata": {
  "kernelspec": {
   "display_name": "Python 3",
   "language": "python",
   "name": "python3"
  },
  "language_info": {
   "codemirror_mode": {
    "name": "ipython",
    "version": 3
   },
   "file_extension": ".py",
   "mimetype": "text/x-python",
   "name": "python",
   "nbconvert_exporter": "python",
   "pygments_lexer": "ipython3",
   "version": "3.5.4"
  }
 },
 "nbformat": 4,
 "nbformat_minor": 1
}
